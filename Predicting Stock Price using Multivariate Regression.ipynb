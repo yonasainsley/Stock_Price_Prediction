{
  "nbformat": 4,
  "nbformat_minor": 0,
  "metadata": {
    "colab": {
      "name": "Multivariate Regression Project.ipynb",
      "provenance": [],
      "collapsed_sections": []
    },
    "kernelspec": {
      "name": "python3",
      "display_name": "Python 3"
    }
  },
  "cells": [
    {
      "cell_type": "code",
      "metadata": {
        "id": "tvcNO7pglQsP"
      },
      "source": [
        "import numpy as np\n",
        "from numpy import random\n",
        "import pandas_datareader as pd\n",
        "from matplotlib import pyplot as plt\n",
        "from sklearn.preprocessing import MinMaxScaler\n",
        "from sklearn.model_selection import train_test_split"
      ],
      "execution_count": null,
      "outputs": []
    },
    {
      "cell_type": "code",
      "metadata": {
        "id": "-u6SsDDWlkvm"
      },
      "source": [
        "dataset = pd.get_data_yahoo('BBCA.JK', start='2019-01-01', end='2021-01-01')\n",
        "dataset = dataset.drop(\"Adj Close\", axis=1)"
      ],
      "execution_count": null,
      "outputs": []
    },
    {
      "cell_type": "code",
      "metadata": {
        "colab": {
          "base_uri": "https://localhost:8080/",
          "height": 450
        },
        "id": "SYlRdoxOhUCC",
        "outputId": "e2534de1-4e49-462f-b7b8-3d7c55624875"
      },
      "source": [
        "dataset"
      ],
      "execution_count": null,
      "outputs": [
        {
          "output_type": "execute_result",
          "data": {
            "text/html": [
              "<div>\n",
              "<style scoped>\n",
              "    .dataframe tbody tr th:only-of-type {\n",
              "        vertical-align: middle;\n",
              "    }\n",
              "\n",
              "    .dataframe tbody tr th {\n",
              "        vertical-align: top;\n",
              "    }\n",
              "\n",
              "    .dataframe thead th {\n",
              "        text-align: right;\n",
              "    }\n",
              "</style>\n",
              "<table border=\"1\" class=\"dataframe\">\n",
              "  <thead>\n",
              "    <tr style=\"text-align: right;\">\n",
              "      <th></th>\n",
              "      <th>High</th>\n",
              "      <th>Low</th>\n",
              "      <th>Open</th>\n",
              "      <th>Close</th>\n",
              "      <th>Volume</th>\n",
              "    </tr>\n",
              "    <tr>\n",
              "      <th>Date</th>\n",
              "      <th></th>\n",
              "      <th></th>\n",
              "      <th></th>\n",
              "      <th></th>\n",
              "      <th></th>\n",
              "    </tr>\n",
              "  </thead>\n",
              "  <tbody>\n",
              "    <tr>\n",
              "      <th>2019-01-01</th>\n",
              "      <td>26000.0</td>\n",
              "      <td>26000.0</td>\n",
              "      <td>26000.0</td>\n",
              "      <td>26000.0</td>\n",
              "      <td>0.0</td>\n",
              "    </tr>\n",
              "    <tr>\n",
              "      <th>2019-01-02</th>\n",
              "      <td>26225.0</td>\n",
              "      <td>26000.0</td>\n",
              "      <td>26000.0</td>\n",
              "      <td>26200.0</td>\n",
              "      <td>7191200.0</td>\n",
              "    </tr>\n",
              "    <tr>\n",
              "      <th>2019-01-03</th>\n",
              "      <td>26100.0</td>\n",
              "      <td>25575.0</td>\n",
              "      <td>26000.0</td>\n",
              "      <td>25900.0</td>\n",
              "      <td>14471600.0</td>\n",
              "    </tr>\n",
              "    <tr>\n",
              "      <th>2019-01-04</th>\n",
              "      <td>26025.0</td>\n",
              "      <td>25625.0</td>\n",
              "      <td>25875.0</td>\n",
              "      <td>26025.0</td>\n",
              "      <td>10293000.0</td>\n",
              "    </tr>\n",
              "    <tr>\n",
              "      <th>2019-01-07</th>\n",
              "      <td>26625.0</td>\n",
              "      <td>26225.0</td>\n",
              "      <td>26325.0</td>\n",
              "      <td>26225.0</td>\n",
              "      <td>14687600.0</td>\n",
              "    </tr>\n",
              "    <tr>\n",
              "      <th>...</th>\n",
              "      <td>...</td>\n",
              "      <td>...</td>\n",
              "      <td>...</td>\n",
              "      <td>...</td>\n",
              "      <td>...</td>\n",
              "    </tr>\n",
              "    <tr>\n",
              "      <th>2020-12-22</th>\n",
              "      <td>34100.0</td>\n",
              "      <td>33550.0</td>\n",
              "      <td>33700.0</td>\n",
              "      <td>33575.0</td>\n",
              "      <td>12358100.0</td>\n",
              "    </tr>\n",
              "    <tr>\n",
              "      <th>2020-12-23</th>\n",
              "      <td>34525.0</td>\n",
              "      <td>33100.0</td>\n",
              "      <td>34525.0</td>\n",
              "      <td>33625.0</td>\n",
              "      <td>15389600.0</td>\n",
              "    </tr>\n",
              "    <tr>\n",
              "      <th>2020-12-28</th>\n",
              "      <td>34100.0</td>\n",
              "      <td>33300.0</td>\n",
              "      <td>33950.0</td>\n",
              "      <td>33900.0</td>\n",
              "      <td>12046800.0</td>\n",
              "    </tr>\n",
              "    <tr>\n",
              "      <th>2020-12-29</th>\n",
              "      <td>34050.0</td>\n",
              "      <td>33700.0</td>\n",
              "      <td>33875.0</td>\n",
              "      <td>33825.0</td>\n",
              "      <td>6842500.0</td>\n",
              "    </tr>\n",
              "    <tr>\n",
              "      <th>2020-12-30</th>\n",
              "      <td>34000.0</td>\n",
              "      <td>33500.0</td>\n",
              "      <td>34000.0</td>\n",
              "      <td>33850.0</td>\n",
              "      <td>10535100.0</td>\n",
              "    </tr>\n",
              "  </tbody>\n",
              "</table>\n",
              "<p>499 rows × 5 columns</p>\n",
              "</div>"
            ],
            "text/plain": [
              "               High      Low     Open    Close      Volume\n",
              "Date                                                      \n",
              "2019-01-01  26000.0  26000.0  26000.0  26000.0         0.0\n",
              "2019-01-02  26225.0  26000.0  26000.0  26200.0   7191200.0\n",
              "2019-01-03  26100.0  25575.0  26000.0  25900.0  14471600.0\n",
              "2019-01-04  26025.0  25625.0  25875.0  26025.0  10293000.0\n",
              "2019-01-07  26625.0  26225.0  26325.0  26225.0  14687600.0\n",
              "...             ...      ...      ...      ...         ...\n",
              "2020-12-22  34100.0  33550.0  33700.0  33575.0  12358100.0\n",
              "2020-12-23  34525.0  33100.0  34525.0  33625.0  15389600.0\n",
              "2020-12-28  34100.0  33300.0  33950.0  33900.0  12046800.0\n",
              "2020-12-29  34050.0  33700.0  33875.0  33825.0   6842500.0\n",
              "2020-12-30  34000.0  33500.0  34000.0  33850.0  10535100.0\n",
              "\n",
              "[499 rows x 5 columns]"
            ]
          },
          "metadata": {
            "tags": []
          },
          "execution_count": 3
        }
      ]
    },
    {
      "cell_type": "code",
      "metadata": {
        "colab": {
          "base_uri": "https://localhost:8080/"
        },
        "id": "4YLbRNqvK46F",
        "outputId": "a6b2d866-1232-45ce-e3c6-88ffd60a49f4"
      },
      "source": [
        "nullhigh = dataset['High'].isnull().values.any()\n",
        "nulllow = dataset['Low'].isnull().values.any()\n",
        "nullopen = dataset['Open'].isnull().values.any()\n",
        "nullclose = dataset['Close'].isnull().values.any()\n",
        "nullvolume = dataset['Volume'].isnull().values.any()\n",
        "print(f'Null in:\\nHigh: {nullhigh}\\nLow: {nulllow}\\nOpen: {nullopen}\\nClose: {nullclose}\\nVolume: {nullvolume}')"
      ],
      "execution_count": null,
      "outputs": [
        {
          "output_type": "stream",
          "text": [
            "Null in:\n",
            "High: False\n",
            "Low: False\n",
            "Open: False\n",
            "Close: False\n",
            "Volume: False\n"
          ],
          "name": "stdout"
        }
      ]
    },
    {
      "cell_type": "code",
      "metadata": {
        "colab": {
          "base_uri": "https://localhost:8080/"
        },
        "id": "YtpA8spgNdYa",
        "outputId": "bce45fcb-db80-4119-c613-3d428fade93d"
      },
      "source": [
        "corr1 = dataset.corr()\n",
        "corr2 = corr1['Close'].abs().sort_values(ascending = False)\n",
        "print(\"Correlation between Independent Variables and Dependent Variable\\n\")\n",
        "print(corr2)"
      ],
      "execution_count": null,
      "outputs": [
        {
          "output_type": "stream",
          "text": [
            "Correlation between Independent Variables and Dependent Variable\n",
            "\n",
            "Close     1.000000\n",
            "Low       0.990410\n",
            "High      0.987301\n",
            "Open      0.982934\n",
            "Volume    0.184419\n",
            "Name: Close, dtype: float64\n"
          ],
          "name": "stdout"
        }
      ]
    },
    {
      "cell_type": "code",
      "metadata": {
        "colab": {
          "base_uri": "https://localhost:8080/",
          "height": 450
        },
        "id": "3E4I-H1ONwND",
        "outputId": "944f87af-4502-4c0c-d630-d4c3d7935e55"
      },
      "source": [
        "max_threshold = dataset['Close'].quantile(0.95)\n",
        "min_threshold = dataset['Close'].quantile(0.05)\n",
        "dataset = dataset[(dataset['Close']<max_threshold) & (dataset['Close']>min_threshold)]\n",
        "dataset"
      ],
      "execution_count": null,
      "outputs": [
        {
          "output_type": "execute_result",
          "data": {
            "text/html": [
              "<div>\n",
              "<style scoped>\n",
              "    .dataframe tbody tr th:only-of-type {\n",
              "        vertical-align: middle;\n",
              "    }\n",
              "\n",
              "    .dataframe tbody tr th {\n",
              "        vertical-align: top;\n",
              "    }\n",
              "\n",
              "    .dataframe thead th {\n",
              "        text-align: right;\n",
              "    }\n",
              "</style>\n",
              "<table border=\"1\" class=\"dataframe\">\n",
              "  <thead>\n",
              "    <tr style=\"text-align: right;\">\n",
              "      <th></th>\n",
              "      <th>High</th>\n",
              "      <th>Low</th>\n",
              "      <th>Open</th>\n",
              "      <th>Close</th>\n",
              "      <th>Volume</th>\n",
              "    </tr>\n",
              "    <tr>\n",
              "      <th>Date</th>\n",
              "      <th></th>\n",
              "      <th></th>\n",
              "      <th></th>\n",
              "      <th></th>\n",
              "      <th></th>\n",
              "    </tr>\n",
              "  </thead>\n",
              "  <tbody>\n",
              "    <tr>\n",
              "      <th>2019-01-01</th>\n",
              "      <td>26000.0</td>\n",
              "      <td>26000.0</td>\n",
              "      <td>26000.0</td>\n",
              "      <td>26000.0</td>\n",
              "      <td>0.0</td>\n",
              "    </tr>\n",
              "    <tr>\n",
              "      <th>2019-01-02</th>\n",
              "      <td>26225.0</td>\n",
              "      <td>26000.0</td>\n",
              "      <td>26000.0</td>\n",
              "      <td>26200.0</td>\n",
              "      <td>7191200.0</td>\n",
              "    </tr>\n",
              "    <tr>\n",
              "      <th>2019-01-04</th>\n",
              "      <td>26025.0</td>\n",
              "      <td>25625.0</td>\n",
              "      <td>25875.0</td>\n",
              "      <td>26025.0</td>\n",
              "      <td>10293000.0</td>\n",
              "    </tr>\n",
              "    <tr>\n",
              "      <th>2019-01-07</th>\n",
              "      <td>26625.0</td>\n",
              "      <td>26225.0</td>\n",
              "      <td>26325.0</td>\n",
              "      <td>26225.0</td>\n",
              "      <td>14687600.0</td>\n",
              "    </tr>\n",
              "    <tr>\n",
              "      <th>2019-01-08</th>\n",
              "      <td>26600.0</td>\n",
              "      <td>26025.0</td>\n",
              "      <td>26150.0</td>\n",
              "      <td>26200.0</td>\n",
              "      <td>13249500.0</td>\n",
              "    </tr>\n",
              "    <tr>\n",
              "      <th>...</th>\n",
              "      <td>...</td>\n",
              "      <td>...</td>\n",
              "      <td>...</td>\n",
              "      <td>...</td>\n",
              "      <td>...</td>\n",
              "    </tr>\n",
              "    <tr>\n",
              "      <th>2020-12-10</th>\n",
              "      <td>33000.0</td>\n",
              "      <td>32700.0</td>\n",
              "      <td>32950.0</td>\n",
              "      <td>32875.0</td>\n",
              "      <td>30284100.0</td>\n",
              "    </tr>\n",
              "    <tr>\n",
              "      <th>2020-12-11</th>\n",
              "      <td>33900.0</td>\n",
              "      <td>32975.0</td>\n",
              "      <td>33000.0</td>\n",
              "      <td>33675.0</td>\n",
              "      <td>42832000.0</td>\n",
              "    </tr>\n",
              "    <tr>\n",
              "      <th>2020-12-22</th>\n",
              "      <td>34100.0</td>\n",
              "      <td>33550.0</td>\n",
              "      <td>33700.0</td>\n",
              "      <td>33575.0</td>\n",
              "      <td>12358100.0</td>\n",
              "    </tr>\n",
              "    <tr>\n",
              "      <th>2020-12-23</th>\n",
              "      <td>34525.0</td>\n",
              "      <td>33100.0</td>\n",
              "      <td>34525.0</td>\n",
              "      <td>33625.0</td>\n",
              "      <td>15389600.0</td>\n",
              "    </tr>\n",
              "    <tr>\n",
              "      <th>2020-12-29</th>\n",
              "      <td>34050.0</td>\n",
              "      <td>33700.0</td>\n",
              "      <td>33875.0</td>\n",
              "      <td>33825.0</td>\n",
              "      <td>6842500.0</td>\n",
              "    </tr>\n",
              "  </tbody>\n",
              "</table>\n",
              "<p>449 rows × 5 columns</p>\n",
              "</div>"
            ],
            "text/plain": [
              "               High      Low     Open    Close      Volume\n",
              "Date                                                      \n",
              "2019-01-01  26000.0  26000.0  26000.0  26000.0         0.0\n",
              "2019-01-02  26225.0  26000.0  26000.0  26200.0   7191200.0\n",
              "2019-01-04  26025.0  25625.0  25875.0  26025.0  10293000.0\n",
              "2019-01-07  26625.0  26225.0  26325.0  26225.0  14687600.0\n",
              "2019-01-08  26600.0  26025.0  26150.0  26200.0  13249500.0\n",
              "...             ...      ...      ...      ...         ...\n",
              "2020-12-10  33000.0  32700.0  32950.0  32875.0  30284100.0\n",
              "2020-12-11  33900.0  32975.0  33000.0  33675.0  42832000.0\n",
              "2020-12-22  34100.0  33550.0  33700.0  33575.0  12358100.0\n",
              "2020-12-23  34525.0  33100.0  34525.0  33625.0  15389600.0\n",
              "2020-12-29  34050.0  33700.0  33875.0  33825.0   6842500.0\n",
              "\n",
              "[449 rows x 5 columns]"
            ]
          },
          "metadata": {
            "tags": []
          },
          "execution_count": 6
        }
      ]
    },
    {
      "cell_type": "code",
      "metadata": {
        "id": "dcAyvp1UPsKr"
      },
      "source": [
        "train_data, test_data = train_test_split(dataset, test_size=0.2, shuffle = False)"
      ],
      "execution_count": null,
      "outputs": []
    },
    {
      "cell_type": "code",
      "metadata": {
        "colab": {
          "base_uri": "https://localhost:8080/"
        },
        "id": "iEb_2gdsnReR",
        "outputId": "df89e658-1544-477c-85d6-27223d187476"
      },
      "source": [
        "train_label = train_data[\"Close\"]\n",
        "train_data.pop(\"Close\")\n",
        "\n",
        "test_label = test_data[\"Close\"]\n",
        "test_data.pop(\"Close\")"
      ],
      "execution_count": null,
      "outputs": [
        {
          "output_type": "execute_result",
          "data": {
            "text/plain": [
              "Date\n",
              "2020-08-04    31050.0\n",
              "2020-08-05    31025.0\n",
              "2020-08-06    31300.0\n",
              "2020-08-07    30900.0\n",
              "2020-08-10    30600.0\n",
              "               ...   \n",
              "2020-12-10    32875.0\n",
              "2020-12-11    33675.0\n",
              "2020-12-22    33575.0\n",
              "2020-12-23    33625.0\n",
              "2020-12-29    33825.0\n",
              "Name: Close, Length: 90, dtype: float64"
            ]
          },
          "metadata": {
            "tags": []
          },
          "execution_count": 8
        }
      ]
    },
    {
      "cell_type": "code",
      "metadata": {
        "id": "ju-ApFkjQJAa"
      },
      "source": [
        "def normalize(dataset):\n",
        "    column_keys = dataset.keys()\n",
        "    for i in range(0, len(dataset.columns)):\n",
        "            dataset[column_keys[i]] = dataset[column_keys[i]] / np.max(dataset[column_keys[i]])"
      ],
      "execution_count": null,
      "outputs": []
    },
    {
      "cell_type": "code",
      "metadata": {
        "colab": {
          "base_uri": "https://localhost:8080/",
          "height": 572
        },
        "id": "eV4mQ0shnwD-",
        "outputId": "10bdd9c4-0529-4eee-d5f1-026f0cfa399d"
      },
      "source": [
        "train_label = train_label / np.max(train_label)\n",
        "test_label = test_label / np.max(test_label)\n",
        "normalize(test_data)\n",
        "normalize(train_data)\n",
        "\n",
        "train_data"
      ],
      "execution_count": null,
      "outputs": [
        {
          "output_type": "stream",
          "text": [
            "/usr/local/lib/python3.7/dist-packages/ipykernel_launcher.py:4: SettingWithCopyWarning: \n",
            "A value is trying to be set on a copy of a slice from a DataFrame.\n",
            "Try using .loc[row_indexer,col_indexer] = value instead\n",
            "\n",
            "See the caveats in the documentation: https://pandas.pydata.org/pandas-docs/stable/user_guide/indexing.html#returning-a-view-versus-a-copy\n",
            "  after removing the cwd from sys.path.\n"
          ],
          "name": "stderr"
        },
        {
          "output_type": "execute_result",
          "data": {
            "text/html": [
              "<div>\n",
              "<style scoped>\n",
              "    .dataframe tbody tr th:only-of-type {\n",
              "        vertical-align: middle;\n",
              "    }\n",
              "\n",
              "    .dataframe tbody tr th {\n",
              "        vertical-align: top;\n",
              "    }\n",
              "\n",
              "    .dataframe thead th {\n",
              "        text-align: right;\n",
              "    }\n",
              "</style>\n",
              "<table border=\"1\" class=\"dataframe\">\n",
              "  <thead>\n",
              "    <tr style=\"text-align: right;\">\n",
              "      <th></th>\n",
              "      <th>High</th>\n",
              "      <th>Low</th>\n",
              "      <th>Open</th>\n",
              "      <th>Volume</th>\n",
              "    </tr>\n",
              "    <tr>\n",
              "      <th>Date</th>\n",
              "      <th></th>\n",
              "      <th></th>\n",
              "      <th></th>\n",
              "      <th></th>\n",
              "    </tr>\n",
              "  </thead>\n",
              "  <tbody>\n",
              "    <tr>\n",
              "      <th>2019-01-01</th>\n",
              "      <td>0.759679</td>\n",
              "      <td>0.772086</td>\n",
              "      <td>0.759679</td>\n",
              "      <td>0.000000</td>\n",
              "    </tr>\n",
              "    <tr>\n",
              "      <th>2019-01-02</th>\n",
              "      <td>0.766253</td>\n",
              "      <td>0.772086</td>\n",
              "      <td>0.759679</td>\n",
              "      <td>0.108421</td>\n",
              "    </tr>\n",
              "    <tr>\n",
              "      <th>2019-01-04</th>\n",
              "      <td>0.760409</td>\n",
              "      <td>0.760950</td>\n",
              "      <td>0.756026</td>\n",
              "      <td>0.155187</td>\n",
              "    </tr>\n",
              "    <tr>\n",
              "      <th>2019-01-07</th>\n",
              "      <td>0.777940</td>\n",
              "      <td>0.778768</td>\n",
              "      <td>0.769175</td>\n",
              "      <td>0.221444</td>\n",
              "    </tr>\n",
              "    <tr>\n",
              "      <th>2019-01-08</th>\n",
              "      <td>0.777210</td>\n",
              "      <td>0.772829</td>\n",
              "      <td>0.764061</td>\n",
              "      <td>0.199761</td>\n",
              "    </tr>\n",
              "    <tr>\n",
              "      <th>...</th>\n",
              "      <td>...</td>\n",
              "      <td>...</td>\n",
              "      <td>...</td>\n",
              "      <td>...</td>\n",
              "    </tr>\n",
              "    <tr>\n",
              "      <th>2020-07-27</th>\n",
              "      <td>0.897005</td>\n",
              "      <td>0.890869</td>\n",
              "      <td>0.891161</td>\n",
              "      <td>0.126563</td>\n",
              "    </tr>\n",
              "    <tr>\n",
              "      <th>2020-07-28</th>\n",
              "      <td>0.905771</td>\n",
              "      <td>0.899777</td>\n",
              "      <td>0.894083</td>\n",
              "      <td>0.196841</td>\n",
              "    </tr>\n",
              "    <tr>\n",
              "      <th>2020-07-29</th>\n",
              "      <td>0.903579</td>\n",
              "      <td>0.905716</td>\n",
              "      <td>0.903579</td>\n",
              "      <td>0.151561</td>\n",
              "    </tr>\n",
              "    <tr>\n",
              "      <th>2020-07-30</th>\n",
              "      <td>0.911614</td>\n",
              "      <td>0.899035</td>\n",
              "      <td>0.896275</td>\n",
              "      <td>0.242839</td>\n",
              "    </tr>\n",
              "    <tr>\n",
              "      <th>2020-08-03</th>\n",
              "      <td>0.910884</td>\n",
              "      <td>0.864885</td>\n",
              "      <td>0.908692</td>\n",
              "      <td>0.413345</td>\n",
              "    </tr>\n",
              "  </tbody>\n",
              "</table>\n",
              "<p>359 rows × 4 columns</p>\n",
              "</div>"
            ],
            "text/plain": [
              "                High       Low      Open    Volume\n",
              "Date                                              \n",
              "2019-01-01  0.759679  0.772086  0.759679  0.000000\n",
              "2019-01-02  0.766253  0.772086  0.759679  0.108421\n",
              "2019-01-04  0.760409  0.760950  0.756026  0.155187\n",
              "2019-01-07  0.777940  0.778768  0.769175  0.221444\n",
              "2019-01-08  0.777210  0.772829  0.764061  0.199761\n",
              "...              ...       ...       ...       ...\n",
              "2020-07-27  0.897005  0.890869  0.891161  0.126563\n",
              "2020-07-28  0.905771  0.899777  0.894083  0.196841\n",
              "2020-07-29  0.903579  0.905716  0.903579  0.151561\n",
              "2020-07-30  0.911614  0.899035  0.896275  0.242839\n",
              "2020-08-03  0.910884  0.864885  0.908692  0.413345\n",
              "\n",
              "[359 rows x 4 columns]"
            ]
          },
          "metadata": {
            "tags": []
          },
          "execution_count": 10
        }
      ]
    },
    {
      "cell_type": "code",
      "metadata": {
        "id": "rs2zpm7eQ4pl"
      },
      "source": [
        "def ground_truth(dataset, weight):\n",
        "    value = dataset * weight\n",
        "    return value"
      ],
      "execution_count": null,
      "outputs": []
    },
    {
      "cell_type": "code",
      "metadata": {
        "id": "t_G_au96pZJV"
      },
      "source": [
        "def calculate_cost(dataset, label, weight, length):\n",
        "    y = ground_truth(dataset, weight)\n",
        "    y = np.sum(y, axis = 1)\n",
        "    value = sum(np.sqrt((y - label)**2)) / (2 * length)\n",
        "    return value"
      ],
      "execution_count": null,
      "outputs": []
    },
    {
      "cell_type": "code",
      "metadata": {
        "id": "ocW9WV8krzuA"
      },
      "source": [
        "def gradient_descent(dataset, label, weight, learning_rate, epoch):\n",
        "    cost_function = []\n",
        "    i = 0\n",
        "    while i < epoch:\n",
        "        y = ground_truth(dataset, weight)\n",
        "        y = np.sum(y, axis = 1)\n",
        "        for j in range(0, len(dataset.columns)):\n",
        "            weight[j] = weight[j] - learning_rate * (sum((y - label) * dataset.iloc[:, j]) / len(dataset))\n",
        "        cost = calculate_cost(dataset, label, weight , len(dataset))\n",
        "        cost_function.append(cost)\n",
        "        i = i + 1\n",
        "    return cost_function, weight"
      ],
      "execution_count": null,
      "outputs": []
    },
    {
      "cell_type": "code",
      "metadata": {
        "id": "b6gt0aiFtMVd"
      },
      "source": [
        "weight = random.rand(4)"
      ],
      "execution_count": null,
      "outputs": []
    },
    {
      "cell_type": "code",
      "metadata": {
        "id": "C4IwSeS-tYuT"
      },
      "source": [
        "def train(dataset, label, weight, learning_rate, epoch):\n",
        "    cost, weight = gradient_descent(dataset, label, weight, learning_rate, epoch)\n",
        "    plt.figure()\n",
        "    plt.scatter(x = list(range(0, epoch)), y = cost)\n",
        "    plt.show()\n",
        "    return weight"
      ],
      "execution_count": null,
      "outputs": []
    },
    {
      "cell_type": "code",
      "metadata": {
        "colab": {
          "base_uri": "https://localhost:8080/",
          "height": 265
        },
        "id": "fRKEvNbIuEew",
        "outputId": "ac6e6d3c-6138-48da-bfbb-b46c0f8796ff"
      },
      "source": [
        "weight = train(train_data, train_label, weight, 0.1, 5000)"
      ],
      "execution_count": null,
      "outputs": [
        {
          "output_type": "display_data",
          "data": {
            "image/png": "[encoded data removed]",
            "text/plain": [
              "<Figure size 432x288 with 1 Axes>"
            ]
          },
          "metadata": {
            "tags": [],
            "needs_background": "light"
          }
        }
      ]
    },
    {
      "cell_type": "code",
      "metadata": {
        "colab": {
          "base_uri": "https://localhost:8080/",
          "height": 450
        },
        "id": "u4d9uLTAvLNp",
        "outputId": "fd11f78d-4697-4ea2-ab47-9cf91e3a6a1a"
      },
      "source": [
        "test_data"
      ],
      "execution_count": null,
      "outputs": [
        {
          "output_type": "execute_result",
          "data": {
            "text/html": [
              "<div>\n",
              "<style scoped>\n",
              "    .dataframe tbody tr th:only-of-type {\n",
              "        vertical-align: middle;\n",
              "    }\n",
              "\n",
              "    .dataframe tbody tr th {\n",
              "        vertical-align: top;\n",
              "    }\n",
              "\n",
              "    .dataframe thead th {\n",
              "        text-align: right;\n",
              "    }\n",
              "</style>\n",
              "<table border=\"1\" class=\"dataframe\">\n",
              "  <thead>\n",
              "    <tr style=\"text-align: right;\">\n",
              "      <th></th>\n",
              "      <th>High</th>\n",
              "      <th>Low</th>\n",
              "      <th>Open</th>\n",
              "      <th>Volume</th>\n",
              "    </tr>\n",
              "    <tr>\n",
              "      <th>Date</th>\n",
              "      <th></th>\n",
              "      <th></th>\n",
              "      <th></th>\n",
              "      <th></th>\n",
              "    </tr>\n",
              "  </thead>\n",
              "  <tbody>\n",
              "    <tr>\n",
              "      <th>2020-08-04</th>\n",
              "      <td>0.900797</td>\n",
              "      <td>0.909496</td>\n",
              "      <td>0.891383</td>\n",
              "      <td>0.196900</td>\n",
              "    </tr>\n",
              "    <tr>\n",
              "      <th>2020-08-05</th>\n",
              "      <td>0.900797</td>\n",
              "      <td>0.905045</td>\n",
              "      <td>0.897900</td>\n",
              "      <td>0.122553</td>\n",
              "    </tr>\n",
              "    <tr>\n",
              "      <th>2020-08-06</th>\n",
              "      <td>0.911658</td>\n",
              "      <td>0.917656</td>\n",
              "      <td>0.900072</td>\n",
              "      <td>0.137107</td>\n",
              "    </tr>\n",
              "    <tr>\n",
              "      <th>2020-08-07</th>\n",
              "      <td>0.910210</td>\n",
              "      <td>0.913947</td>\n",
              "      <td>0.907314</td>\n",
              "      <td>0.108232</td>\n",
              "    </tr>\n",
              "    <tr>\n",
              "      <th>2020-08-10</th>\n",
              "      <td>0.897900</td>\n",
              "      <td>0.905786</td>\n",
              "      <td>0.895004</td>\n",
              "      <td>0.093726</td>\n",
              "    </tr>\n",
              "    <tr>\n",
              "      <th>...</th>\n",
              "      <td>...</td>\n",
              "      <td>...</td>\n",
              "      <td>...</td>\n",
              "      <td>...</td>\n",
              "    </tr>\n",
              "    <tr>\n",
              "      <th>2020-12-10</th>\n",
              "      <td>0.955829</td>\n",
              "      <td>0.970326</td>\n",
              "      <td>0.954381</td>\n",
              "      <td>0.375703</td>\n",
              "    </tr>\n",
              "    <tr>\n",
              "      <th>2020-12-11</th>\n",
              "      <td>0.981897</td>\n",
              "      <td>0.978487</td>\n",
              "      <td>0.955829</td>\n",
              "      <td>0.531372</td>\n",
              "    </tr>\n",
              "    <tr>\n",
              "      <th>2020-12-22</th>\n",
              "      <td>0.987690</td>\n",
              "      <td>0.995549</td>\n",
              "      <td>0.976104</td>\n",
              "      <td>0.153314</td>\n",
              "    </tr>\n",
              "    <tr>\n",
              "      <th>2020-12-23</th>\n",
              "      <td>1.000000</td>\n",
              "      <td>0.982196</td>\n",
              "      <td>1.000000</td>\n",
              "      <td>0.190923</td>\n",
              "    </tr>\n",
              "    <tr>\n",
              "      <th>2020-12-29</th>\n",
              "      <td>0.986242</td>\n",
              "      <td>1.000000</td>\n",
              "      <td>0.981173</td>\n",
              "      <td>0.084888</td>\n",
              "    </tr>\n",
              "  </tbody>\n",
              "</table>\n",
              "<p>90 rows × 4 columns</p>\n",
              "</div>"
            ],
            "text/plain": [
              "                High       Low      Open    Volume\n",
              "Date                                              \n",
              "2020-08-04  0.900797  0.909496  0.891383  0.196900\n",
              "2020-08-05  0.900797  0.905045  0.897900  0.122553\n",
              "2020-08-06  0.911658  0.917656  0.900072  0.137107\n",
              "2020-08-07  0.910210  0.913947  0.907314  0.108232\n",
              "2020-08-10  0.897900  0.905786  0.895004  0.093726\n",
              "...              ...       ...       ...       ...\n",
              "2020-12-10  0.955829  0.970326  0.954381  0.375703\n",
              "2020-12-11  0.981897  0.978487  0.955829  0.531372\n",
              "2020-12-22  0.987690  0.995549  0.976104  0.153314\n",
              "2020-12-23  1.000000  0.982196  1.000000  0.190923\n",
              "2020-12-29  0.986242  1.000000  0.981173  0.084888\n",
              "\n",
              "[90 rows x 4 columns]"
            ]
          },
          "metadata": {
            "tags": []
          },
          "execution_count": 18
        }
      ]
    },
    {
      "cell_type": "code",
      "metadata": {
        "id": "GxGizKGeucLA"
      },
      "source": [
        "def test(test_data):\n",
        "    predicted = ground_truth(test_data, weight)\n",
        "    predicted = np.sum(predicted, axis = 1)\n",
        "    return predicted\n",
        "\n",
        "predicted = test(test_data)"
      ],
      "execution_count": null,
      "outputs": []
    },
    {
      "cell_type": "code",
      "metadata": {
        "colab": {
          "base_uri": "https://localhost:8080/",
          "height": 265
        },
        "id": "6PftGRSxwK-I",
        "outputId": "54daad5b-fd3e-49c2-a6d0-fbbd443fe373"
      },
      "source": [
        "plt.figure()\n",
        "plt.scatter(x = list(range(0, len(test_label))), y = test_label, color = 'black')\n",
        "plt.scatter(x = list(range(0, len(predicted))), y = predicted, color = 'red')\n",
        "plt.show()"
      ],
      "execution_count": null,
      "outputs": [
        {
          "output_type": "display_data",
          "data": {
            "image/png": "[encoded data removed]",
            "text/plain": [
              "<Figure size 432x288 with 1 Axes>"
            ]
          },
          "metadata": {
            "tags": [],
            "needs_background": "light"
          }
        }
      ]
    },
    {
      "cell_type": "code",
      "metadata": {
        "colab": {
          "base_uri": "https://localhost:8080/"
        },
        "id": "lvXN0XLxx7BZ",
        "outputId": "71504837-bede-48dd-83ca-7fc84316a8e7"
      },
      "source": [
        "from sklearn.metrics import mean_squared_error, r2_score\n",
        "MSE = mean_squared_error(test_label, predicted)\n",
        "score = r2_score(test_label, predicted)\n",
        "score = score * 100\n",
        "print (f\"MSE : {MSE:.4f}\")\n",
        "print (f\"R2 : {score:.2f}%\")"
      ],
      "execution_count": null,
      "outputs": [
        {
          "output_type": "stream",
          "text": [
            "MSE : 0.0001\n",
            "R2 : 95.91%\n"
          ],
          "name": "stdout"
        }
      ]
    },
    {
      "cell_type": "code",
      "metadata": {
        "id": "m-l5Vz_4X9B3"
      },
      "source": [
        ""
      ],
      "execution_count": null,
      "outputs": []
    }
  ]
}